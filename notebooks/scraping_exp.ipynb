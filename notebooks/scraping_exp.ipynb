{
 "cells": [
  {
   "cell_type": "code",
   "execution_count": 1,
   "metadata": {},
   "outputs": [],
   "source": [
    "import pandas as pd\n",
    "import requests\n",
    "import json\n",
    "import concurrent.futures\n",
    "from concurrent.futures import ThreadPoolExecutor, as_completed\n",
    "from tqdm import tqdm\n",
    "from selectolax.parser import HTMLParser\n",
    "from PIL import Image\n",
    "from PIL.JpegImagePlugin import JpegImageFile\n",
    "from io import BytesIO\n",
    "from typing import List\n",
    "from datetime import datetime"
   ]
  },
  {
   "cell_type": "code",
   "execution_count": 2,
   "metadata": {},
   "outputs": [],
   "source": [
    "def get_data_from_json(offers):\n",
    "    result = []\n",
    "    for offer in offers:\n",
    "        if not offer.get('floorsOffered'):\n",
    "            continue\n",
    "        apartment = {\n",
    "            'id': offer.get('offerId'),\n",
    "            'price': offer['price'].get('value'),\n",
    "            'area': offer['area'].get('value'),\n",
    "            'rooms': offer.get('roomsTotalKey'),\n",
    "            'ceilingHeight': offer.get('ceilingHeight'),\n",
    "            'kitchen_space': offer['kitchenSpace'].get('value') if 'kitchenSpace' in offer else 'studio',\n",
    "            'floor': offer.get('floorsOffered')[0],\n",
    "            'floorsTotal': offer.get('floorsTotal'),\n",
    "            'creationDate': offer.get('creationDate'),\n",
    "            'seller': offer['author'].get('category'),\n",
    "            'address': offer['location'].get('geocoderAddress'),\n",
    "            'nearest_metro': offer['location']['metro']['name'] if 'metro' in offer['location'] else None,\n",
    "            'time_to_metro': offer['location']['metro'].get('minTimeToMetro') if 'metro' in offer['location'] else None,\n",
    "            'transport_to_metro': offer['location']['metro'].get('metroTransport') if 'metro' in offer['location'] else None,\n",
    "            'branch_metro_color': offer['location']['metro'].get('lineColors')[0] if 'metro' in offer['location'] else None,\n",
    "            'parks_count': len(offer['location'].get('parks')) if 'parks' in offer['location'] else 0,\n",
    "            'nearest_park': offer['location']['parks'][0].get('name') if 'parks' in offer['location'] else None,\n",
    "            'time_park': offer['location']['parks'][0].get('timeOnFoot') if 'parks' in offer['location'] else None,\n",
    "            'distance_park': offer['location']['parks'][0].get('distanceOnFoot') if 'parks' in offer['location'] else None,\n",
    "            'ponds_count': len(offer['location'].get('ponds')) if 'ponds' in offer['location'] else 0,\n",
    "            'nearest_pond': offer['location']['ponds'][0].get('name') if 'ponds' in offer['location'] else None,\n",
    "            'time_pond': offer['location']['ponds'][0].get('timeOnFoot') if 'ponds' in offer['location'] else None,\n",
    "            'distance_pond': offer['location']['ponds'][0].get('distanceOnFoot') if 'ponds' in offer['location'] else None,\n",
    "            'nearest_airport': offer['location']['airports'][0].get('name') if 'airports' in offer['location'] else None,\n",
    "            'time_airport_via_car': offer['location']['airports'][0].get('timeOnCar') if 'airports' in offer['location'] else None,\n",
    "            'distance_airport': offer['location']['airports'][0].get('distanceOnCar') if 'airports' in offer['location'] else None,\n",
    "            'images': offer.get('large1242Images')\n",
    "        }\n",
    "        result.append(apartment)\n",
    "\n",
    "    return result\n"
   ]
  },
  {
   "cell_type": "code",
   "execution_count": 3,
   "metadata": {},
   "outputs": [],
   "source": [
    "def scrap_page(url, params):\n",
    "    try:\n",
    "        response = requests.get(url, params=params)\n",
    "        response.encoding = 'utf-8'\n",
    "        html = response.text\n",
    "        tree = HTMLParser(html)\n",
    "        if not (tree.css_first('script[id=\"initial_state_script\"]')):\n",
    "            return None\n",
    "\n",
    "        content = tree.css_first('script[id=\"initial_state_script\"]').text()\n",
    "        data_json = json.loads(content[23:-1])['map']['offers']['points']\n",
    "\n",
    "        data_batch = get_data_from_json(data_json)\n",
    "        return data_batch\n",
    "        # return data_json\n",
    "    \n",
    "    except Exception as err:\n",
    "        print(f\"Ошибка в get_page_data: {err}\")\n",
    "        return None\n",
    "    \n",
    "def find_apartments(param: dict[str], max_workers=8):\n",
    "    metro = param['metro']\n",
    "    built_year_min = param['built_year_min'] if 'built_year_min' in param else 1700\n",
    "    built_year_max = param['built_year_max'] if 'built_year_max' in param else datetime.now().year\n",
    "\n",
    "    url = f\"https://realty.yandex.ru/sankt-peterburg/kupit/kvartira/metro-{metro}/\"\n",
    "    years_range = range(built_year_min, built_year_max + 1)\n",
    "    aparts = []\n",
    "\n",
    "    def process_year(year):\n",
    "        thread_aparts = []\n",
    "        for page in range(1, 26):\n",
    "            params = {'page': page, 'builtYearMin': year, 'builtYearMax': year}\n",
    "            page_aparts = scrap_page(url, params)\n",
    "            if not page_aparts:\n",
    "                break\n",
    "            thread_aparts.extend(page_aparts)\n",
    "        return thread_aparts\n",
    "\n",
    "    with ThreadPoolExecutor(max_workers=max_workers) as executor:\n",
    "        futures = [executor.submit(process_year, year) for year in years_range]\n",
    "        for future in tqdm(as_completed(futures), total=len(years_range), desc=\"Обработка годов\"):\n",
    "            local_data = future.result()\n",
    "            if local_data:\n",
    "                aparts.extend(local_data)\n",
    "\n",
    "    result = pd.DataFrame(aparts)\n",
    "    return result.drop_duplicates(subset=result.columns.difference(['images']).tolist())"
   ]
  },
  {
   "cell_type": "code",
   "execution_count": null,
   "metadata": {},
   "outputs": [],
   "source": [
    "df_metro_stations = []\n"
   ]
  },
  {
   "cell_type": "code",
   "execution_count": 26,
   "metadata": {},
   "outputs": [],
   "source": [
    "stations = {\n",
    "    \"red_line\": [\n",
    "        \"devyatkino\", \"grazhdanskiy-prospekt\",  \"akademicheskaya\", \"politekhnicheskaya\", \n",
    "        \"ploshchad-muzhestva\", \"lesnaya\", \"vyborgskaya\", \"ploshchad-lenina\", \"chernyshevskaya\", \n",
    "        \"ploshchad-vosstaniya\", \"vladimirskaya\", \"pushkinskaya\", \"tekhnologicheskiy-institut\",  \n",
    "        \"baltiyskaya\", \"narvskaya\", \"kirovskiy-zavod\",  \"avtovo\", \"leninskiy-prospekt\",  \n",
    "        \"prospekt-veteranov\"\n",
    "    ],\n",
    "\n",
    "    \"blue_line\": [\n",
    "        \"parnas\", \"prospekt-prosveshcheniya\", \"ozerki\", \"udelnaya\", \"pionerskaya\", \n",
    "        \"chernaya-rechka\", \"petrogradskaya\", \"gorkovskaya\", \"nevskiy-prospekt\", \n",
    "        \"sennaya-ploshchad\", \"tekhnologicheskiy-institut\", \"frunzenskaya\", \"moskovskie-vorota\", \n",
    "        \"elektrosila\", \"park-pobedy\", \"moskovskaya\", \"zvezdnaya\",  \"kupchino\"        \n",
    "    ],\n",
    "\n",
    "    \"green_line\": [\n",
    "        \"begovaya\", \"zenit\", \"primorskaya\", \"vasileostrovskaya\", \"gostiny-dvor\", \"mayakovskaya\", \n",
    "        \"ploshchad-aleksandra-nevskogo\", \"elizarovskaya\", \"lomonosovskaya\", \"proletarskaya\", \n",
    "        \"obukhovo\", \"rybatskoe\"\n",
    "    ],\n",
    "\n",
    "    \"orange_line\": [\n",
    "        \"gorny-institut\", \"spasskaya\", \"dostoevskaya\", \"ligovskiy-prospekt\", \"novocherkasskaya\", \n",
    "        \"ploshchad-aleksandra-nevskogo\", \"ladozhskaya\", \"prospekt-bolshevikov\", \"ulitsa-dybenko\"\n",
    "    ],\n",
    "\n",
    "    \"purple_line\": [ \n",
    "        \"komendantsky-prospekt\", \"staraya-derevnya\", \"krestovskiy-ostrov\", \"chkalovskaya\",\n",
    "        \"sportivnaya\", \"admiralteyskaya\", \"sadovaya\", \"zvenigorodskay\", \"obvodniy-kanal\", \n",
    "        \"volkovskaya\", \"bukharestskaya\", \"mezhdunarodnaya\", \"prospekt-slavy\", \"dunaiskaya\", \n",
    "        \"shushary\" \n",
    "    ]\n",
    "}"
   ]
  },
  {
   "cell_type": "code",
   "execution_count": 24,
   "metadata": {},
   "outputs": [
    {
     "name": "stderr",
     "output_type": "stream",
     "text": [
      "Обработка годов:   0%|          | 0/11 [00:00<?, ?it/s]"
     ]
    },
    {
     "name": "stderr",
     "output_type": "stream",
     "text": [
      "Обработка годов: 100%|██████████| 11/11 [00:02<00:00,  3.84it/s]\n"
     ]
    },
    {
     "name": "stdout",
     "output_type": "stream",
     "text": [
      "metr: gorny-institut\tsize=3\n"
     ]
    },
    {
     "name": "stderr",
     "output_type": "stream",
     "text": [
      "Обработка годов: 100%|██████████| 11/11 [00:04<00:00,  2.33it/s]\n"
     ]
    },
    {
     "name": "stdout",
     "output_type": "stream",
     "text": [
      "metr: spasskaya\tsize=29\n"
     ]
    },
    {
     "name": "stderr",
     "output_type": "stream",
     "text": [
      "Обработка годов: 100%|██████████| 11/11 [00:03<00:00,  3.64it/s]\n"
     ]
    },
    {
     "name": "stdout",
     "output_type": "stream",
     "text": [
      "metr: dostoevskaya\tsize=31\n"
     ]
    },
    {
     "name": "stderr",
     "output_type": "stream",
     "text": [
      "Обработка годов: 100%|██████████| 11/11 [00:01<00:00,  6.43it/s]\n"
     ]
    },
    {
     "name": "stdout",
     "output_type": "stream",
     "text": [
      "metr: ligovskiy-prospekt\tsize=7\n"
     ]
    },
    {
     "name": "stderr",
     "output_type": "stream",
     "text": [
      "Обработка годов: 100%|██████████| 11/11 [00:01<00:00,  7.04it/s]\n"
     ]
    },
    {
     "name": "stdout",
     "output_type": "stream",
     "text": [
      "metr: novocherkasskaya\tsize=0\n"
     ]
    },
    {
     "name": "stderr",
     "output_type": "stream",
     "text": [
      "Обработка годов: 100%|██████████| 11/11 [00:02<00:00,  3.95it/s]\n"
     ]
    },
    {
     "name": "stdout",
     "output_type": "stream",
     "text": [
      "metr: ploshchad-aleksandra-nevskogo\tsize=1\n"
     ]
    },
    {
     "name": "stderr",
     "output_type": "stream",
     "text": [
      "Обработка годов: 100%|██████████| 11/11 [00:02<00:00,  4.69it/s]\n"
     ]
    },
    {
     "name": "stdout",
     "output_type": "stream",
     "text": [
      "metr: ladozhskaya\tsize=0\n"
     ]
    },
    {
     "name": "stderr",
     "output_type": "stream",
     "text": [
      "Обработка годов: 100%|██████████| 11/11 [00:01<00:00,  5.76it/s]\n"
     ]
    },
    {
     "name": "stdout",
     "output_type": "stream",
     "text": [
      "metr: prospekt-bolshevikov\tsize=0\n"
     ]
    },
    {
     "name": "stderr",
     "output_type": "stream",
     "text": [
      "Обработка годов: 100%|██████████| 11/11 [00:01<00:00,  6.11it/s]"
     ]
    },
    {
     "name": "stdout",
     "output_type": "stream",
     "text": [
      "metr: ulitsa-dybenko\tsize=0\n"
     ]
    },
    {
     "name": "stderr",
     "output_type": "stream",
     "text": [
      "\n"
     ]
    }
   ],
   "source": [
    "for metro in stations['orange_line']:\n",
    "    param = {\n",
    "        'metro': metro,\n",
    "        'built_year_min': 1800,\n",
    "        'built_year_max': 1810\n",
    "    }\n",
    "    res = find_apartments(param)\n",
    "    print(f\"metr: {metro}\\tsize={res.shape[0]}\")"
   ]
  },
  {
   "cell_type": "code",
   "execution_count": 5,
   "metadata": {},
   "outputs": [],
   "source": [
    "def get_image(url):\n",
    "    if (\"https:\" not in url):\n",
    "        url = \"https:\" + url\n",
    "\n",
    "    try:\n",
    "        response = requests.get(url)\n",
    "        response.raise_for_status()\n",
    "\n",
    "        image = Image.open(BytesIO(response.content))\n",
    "        return image\n",
    "    except requests.exceptions.RequestException as err:\n",
    "        print(f\"Ошибка при загрузке изображения: {err}\")\n",
    "        return None\n",
    "\n",
    "# Чтобы быстрее парсилось, можно сделать многопотоку\n",
    "def get_images_optimizer(urls: List[str], num_thread: int=5) -> List[JpegImageFile]:\n",
    "    images = []\n",
    "    with concurrent.futures.ThreadPoolExecutor(max_workers=num_thread) as executor:\n",
    "        future_to_url = {executor.submit(get_image, url): url for url in urls}\n",
    "        for future in concurrent.futures.as_completed(future_to_url):\n",
    "            url = future_to_url[future]\n",
    "            try:\n",
    "                image = future.result()\n",
    "                if image:\n",
    "                    images.append(image)\n",
    "            except Exception as e:\n",
    "                print(f\"Ошибка при обработке {url}: {e}\")\n",
    "    return images"
   ]
  },
  {
   "cell_type": "markdown",
   "metadata": {},
   "source": [
    "Посмотрим на работу с многопоточкой и без"
   ]
  },
  {
   "cell_type": "code",
   "execution_count": null,
   "metadata": {},
   "outputs": [],
   "source": [
    "for image_url_list in tqdm(tmp['images'][:10]):\n",
    "    if (image_url_list == None):\n",
    "        continue\n",
    "    for image_url in image_url_list:\n",
    "        get_image(image_url)"
   ]
  },
  {
   "cell_type": "code",
   "execution_count": null,
   "metadata": {},
   "outputs": [
    {
     "name": "stderr",
     "output_type": "stream",
     "text": [
      "100%|██████████| 10/10 [00:08<00:00,  1.16it/s]\n"
     ]
    }
   ],
   "source": [
    "for image_url_list in tqdm(tmp['images'][:10]):\n",
    "    if (image_url_list == None):\n",
    "        continue\n",
    "    images = get_images_optimizer(image_url_list)"
   ]
  },
  {
   "cell_type": "markdown",
   "metadata": {},
   "source": [
    "Как и ожидалось ускорение в (кол-во потоков) раз"
   ]
  }
 ],
 "metadata": {
  "kernelspec": {
   "display_name": "Python 3",
   "language": "python",
   "name": "python3"
  },
  "language_info": {
   "codemirror_mode": {
    "name": "ipython",
    "version": 3
   },
   "file_extension": ".py",
   "mimetype": "text/x-python",
   "name": "python",
   "nbconvert_exporter": "python",
   "pygments_lexer": "ipython3",
   "version": "3.10.12"
  }
 },
 "nbformat": 4,
 "nbformat_minor": 2
}
