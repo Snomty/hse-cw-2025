{
 "cells": [
  {
   "cell_type": "code",
   "execution_count": 1,
   "metadata": {},
   "outputs": [],
   "source": [
    "import pandas as pd\n",
    "import requests\n",
    "import json\n",
    "from tqdm import tqdm\n",
    "from selectolax.parser import HTMLParser"
   ]
  },
  {
   "cell_type": "code",
   "execution_count": 2,
   "metadata": {},
   "outputs": [],
   "source": [
    "def get_data_from_json(offers):\n",
    "    result = []\n",
    "    for offer in offers:\n",
    "        if not offer.get('floorsOffered'):\n",
    "            continue\n",
    "        apartment = {\n",
    "            'id': offer.get('offerId'),\n",
    "            'price': offer['price'].get('value'),\n",
    "            'area': offer['area'].get('value'),\n",
    "            'rooms': offer.get('roomsTotalKey'),\n",
    "            'ceilingHeight': offer.get('ceilingHeight'),\n",
    "            'kitchen_space': offer['kitchenSpace'].get('value') if 'kitchenSpace' in offer else 'studio',\n",
    "            'floor': offer.get('floorsOffered')[0],\n",
    "            'floorsTotal': offer.get('floorsTotal'),\n",
    "            'creationDate': offer.get('creationDate'),\n",
    "            'seller': offer['author'].get('category'),\n",
    "            'address': offer['location'].get('geocoderAddress'),\n",
    "            'nearest_metro': offer['location']['metro']['name'] if 'metro' in offer['location'] else None,\n",
    "            'time_to_metro': offer['location']['metro'].get('minTimeToMetro') if 'metro' in offer['location'] else None,\n",
    "            'transport_to_metro': offer['location']['metro'].get('metroTransport') if 'metro' in offer['location'] else None,\n",
    "            'branch_metro_color': offer['location']['metro'].get('lineColors')[0] if 'metro' in offer['location'] else None,\n",
    "            'parks_count': len(offer['location'].get('parks')) if 'parks' in offer['location'] else 0,\n",
    "            'nearest_park': offer['location']['parks'][0].get('name') if 'parks' in offer['location'] else None,\n",
    "            'time_park': offer['location']['parks'][0].get('timeOnFoot') if 'parks' in offer['location'] else None,\n",
    "            'distance_park': offer['location']['parks'][0].get('distanceOnFoot') if 'parks' in offer['location'] else None,\n",
    "            'ponds_count': len(offer['location'].get('ponds')) if 'ponds' in offer['location'] else 0,\n",
    "            'nearest_pond': offer['location']['ponds'][0].get('name') if 'ponds' in offer['location'] else None,\n",
    "            'time_pond': offer['location']['ponds'][0].get('timeOnFoot') if 'ponds' in offer['location'] else None,\n",
    "            'distance_pond': offer['location']['ponds'][0].get('distanceOnFoot') if 'ponds' in offer['location'] else None,\n",
    "            'nearest_airport': offer['location']['airports'][0].get('name') if 'airports' in offer['location'] else None,\n",
    "            'time_airport_via_car': offer['location']['airports'][0].get('timeOnCar') if 'airports' in offer['location'] else None,\n",
    "            'distance_airport': offer['location']['airports'][0].get('distanceOnCar') if 'airports' in offer['location'] else None,\n",
    "            'images': offer.get('large1242Images')\n",
    "        }\n",
    "        result.append(apartment)\n",
    "\n",
    "    return result\n"
   ]
  },
  {
   "cell_type": "code",
   "execution_count": 65,
   "metadata": {},
   "outputs": [],
   "source": [
    "def find_apartment_near_the_metro(metro: str):\n",
    "    url = f\"https://realty.yandex.ru/sankt-peterburg/kupit/kvartira/metro-{metro}/\"\n",
    "    aparts = []\n",
    "\n",
    "    year_grid = [int(i) for i in range(1700, 2025)]\n",
    "    for idx in range(len(year_grid) - 1):\n",
    "        page = 1\n",
    "        while True:\n",
    "            params = (('page', page), ('builtYearMin', year_grid[idx]), ('builtYearMax', year_grid[idx + 1]))\n",
    "            response = requests.get(url, params=params)\n",
    "            response.encoding = 'utf-8'\n",
    "\n",
    "            html = response.text\n",
    "            tree = HTMLParser(html)\n",
    "            if not (tree.css_first('script[id=\"initial_state_script\"]')):\n",
    "                break\n",
    "            print(f\"\\r{(100 * idx / len(year_grid)):.1f}%\\t Текущая страница: {page}\\t Размер датасета: {len(aparts)}\", end=\"\")\n",
    "\n",
    "            content = tree.css_first('script[id=\"initial_state_script\"]').text()\n",
    "            data_json = json.loads(content[23:-1])['map']['offers']['points']\n",
    "\n",
    "            data_batch = get_data_from_json(data_json)\n",
    "            aparts.extend(data_batch)\n",
    "\n",
    "            page += 1\n",
    "\n",
    "    result = pd.DataFrame(aparts)\n",
    "    return result.drop_duplicates(subset=result.columns.difference(['images']).tolist())"
   ]
  },
  {
   "cell_type": "code",
   "execution_count": 66,
   "metadata": {},
   "outputs": [
    {
     "name": "stdout",
     "output_type": "stream",
     "text": [
      "99.4%\t Текущая страница: 25\t Размер датасета: 16548"
     ]
    }
   ],
   "source": [
    "tmp = find_apartment_near_the_metro('ploshchad-vosstaniya')"
   ]
  },
  {
   "cell_type": "code",
   "execution_count": 69,
   "metadata": {},
   "outputs": [
    {
     "data": {
      "text/plain": [
       "array(['Маяковская', 'Площадь Восстания'], dtype=object)"
      ]
     },
     "execution_count": 69,
     "metadata": {},
     "output_type": "execute_result"
    }
   ],
   "source": [
    "tmp['nearest_metro'].unique()"
   ]
  }
 ],
 "metadata": {
  "kernelspec": {
   "display_name": "Python 3",
   "language": "python",
   "name": "python3"
  },
  "language_info": {
   "codemirror_mode": {
    "name": "ipython",
    "version": 3
   },
   "file_extension": ".py",
   "mimetype": "text/x-python",
   "name": "python",
   "nbconvert_exporter": "python",
   "pygments_lexer": "ipython3",
   "version": "3.10.12"
  }
 },
 "nbformat": 4,
 "nbformat_minor": 2
}
