{
 "cells": [
  {
   "cell_type": "code",
   "execution_count": 1,
   "metadata": {},
   "outputs": [],
   "source": [
    "import pandas as pd\n",
    "import requests\n",
    "import json\n",
    "import concurrent.futures\n",
    "from concurrent.futures import ThreadPoolExecutor, as_completed\n",
    "from tqdm import tqdm\n",
    "from selectolax.parser import HTMLParser\n",
    "from PIL import Image\n",
    "from PIL.JpegImagePlugin import JpegImageFile\n",
    "from io import BytesIO\n",
    "from typing import List\n",
    "from datetime import datetime"
   ]
  },
  {
   "cell_type": "code",
   "execution_count": 2,
   "metadata": {},
   "outputs": [],
   "source": [
    "def get_data_from_json(offers):\n",
    "    result = []\n",
    "    for offer in offers:\n",
    "        if not offer.get('floorsOffered'):\n",
    "            continue\n",
    "        apartment = {\n",
    "            'id': offer.get('offerId'),\n",
    "            'price': offer['price'].get('value'),\n",
    "            'area': offer['area'].get('value'),\n",
    "            'rooms': offer.get('roomsTotalKey'),\n",
    "            'ceilingHeight': offer.get('ceilingHeight'),\n",
    "            'kitchen_space': offer['kitchenSpace'].get('value') if 'kitchenSpace' in offer else 'studio',\n",
    "            'floor': offer.get('floorsOffered')[0],\n",
    "            'floorsTotal': offer.get('floorsTotal'),\n",
    "            'creationDate': offer.get('creationDate'),\n",
    "            'seller': offer['author'].get('category'),\n",
    "            'address': offer['location'].get('geocoderAddress'),\n",
    "            'nearest_metro': offer['location']['metro']['name'] if 'metro' in offer['location'] else None,\n",
    "            'time_to_metro': offer['location']['metro'].get('minTimeToMetro') if 'metro' in offer['location'] else None,\n",
    "            'transport_to_metro': offer['location']['metro'].get('metroTransport') if 'metro' in offer['location'] else None,\n",
    "            'branch_metro_color': offer['location']['metro'].get('lineColors')[0] if 'metro' in offer['location'] else None,\n",
    "            'parks_count': len(offer['location'].get('parks')) if 'parks' in offer['location'] else 0,\n",
    "            'nearest_park': offer['location']['parks'][0].get('name') if 'parks' in offer['location'] else None,\n",
    "            'time_park': offer['location']['parks'][0].get('timeOnFoot') if 'parks' in offer['location'] else None,\n",
    "            'distance_park': offer['location']['parks'][0].get('distanceOnFoot') if 'parks' in offer['location'] else None,\n",
    "            'ponds_count': len(offer['location'].get('ponds')) if 'ponds' in offer['location'] else 0,\n",
    "            'nearest_pond': offer['location']['ponds'][0].get('name') if 'ponds' in offer['location'] else None,\n",
    "            'time_pond': offer['location']['ponds'][0].get('timeOnFoot') if 'ponds' in offer['location'] else None,\n",
    "            'distance_pond': offer['location']['ponds'][0].get('distanceOnFoot') if 'ponds' in offer['location'] else None,\n",
    "            'nearest_airport': offer['location']['airports'][0].get('name') if 'airports' in offer['location'] else None,\n",
    "            'time_airport_via_car': offer['location']['airports'][0].get('timeOnCar') if 'airports' in offer['location'] else None,\n",
    "            'distance_airport': offer['location']['airports'][0].get('distanceOnCar') if 'airports' in offer['location'] else None,\n",
    "            'images': offer.get('large1242Images')\n",
    "        }\n",
    "        result.append(apartment)\n",
    "\n",
    "    return result\n"
   ]
  },
  {
   "cell_type": "code",
   "execution_count": 13,
   "metadata": {},
   "outputs": [],
   "source": [
    "def scrap_page(url, params):\n",
    "    try:\n",
    "        response = requests.get(url, params=params)\n",
    "        response.encoding = 'utf-8'\n",
    "        html = response.text\n",
    "        tree = HTMLParser(html)\n",
    "        if not (tree.css_first('script[id=\"initial_state_script\"]')):\n",
    "            return None\n",
    "\n",
    "        content = tree.css_first('script[id=\"initial_state_script\"]').text()\n",
    "        data_json = json.loads(content[23:-1])['map']['offers']['points']\n",
    "\n",
    "        data_batch = get_data_from_json(data_json)\n",
    "        return data_batch\n",
    "        # return data_json\n",
    "    \n",
    "    except Exception as err:\n",
    "        print(f\"Ошибка в get_page_data: {err}\")\n",
    "        return None\n",
    "    \n",
    "def find_apartments(param: dict[str], max_workers=8):\n",
    "    metro = param['metro']\n",
    "    built_year_min = param['built_year_min'] if 'built_year_min' in param else 1700\n",
    "    built_year_max = param['built_year_max'] if 'built_year_max' in param else datetime.now().year\n",
    "\n",
    "    url = f\"https://realty.yandex.ru/sankt-peterburg/kupit/kvartira/metro-{metro}/\"\n",
    "    years_range = range(built_year_min, built_year_max + 1)\n",
    "    aparts = []\n",
    "\n",
    "    def process_year(year):\n",
    "        thread_aparts = []\n",
    "        for page in range(1, 26):\n",
    "            params = {'page': page, 'builtYearMin': year, 'builtYearMax': year}\n",
    "            page_aparts = scrap_page(url, params)\n",
    "            if not page_aparts:\n",
    "                break\n",
    "            thread_aparts.extend(page_aparts)\n",
    "        return thread_aparts\n",
    "\n",
    "    with ThreadPoolExecutor(max_workers=max_workers) as executor:\n",
    "        futures = [executor.submit(process_year, year) for year in years_range]\n",
    "        for future in tqdm(as_completed(futures), total=len(years_range), desc=\"Обработка годов\"):\n",
    "            local_data = future.result()\n",
    "            if local_data:\n",
    "                aparts.extend(local_data)\n",
    "\n",
    "    result = pd.DataFrame(aparts)\n",
    "    return result.drop_duplicates(subset=result.columns.difference(['images']).tolist())"
   ]
  },
  {
   "cell_type": "code",
   "execution_count": null,
   "metadata": {},
   "outputs": [],
   "source": [
    "stations_red_line = [\n",
    "    \"devyatkino\",\n",
    "    \"grazhdansky-prospekt\", #\n",
    "    \"akademicheskaya\",\n",
    "    \"politekhnicheskaya\",\n",
    "    \"ploshchad-muzhestva\",\n",
    "    \"lesnaya\",\n",
    "    \"vyborgskaya\",\n",
    "    \"ploshchad-lenina\",\n",
    "    \"chernyshevskaya\",\n",
    "    \"ploshchad-vosstaniya\",\n",
    "    \"vladimirskaya\",\n",
    "    \"pushkinskaya\",\n",
    "    \"tekhnologichesky-institut\", #\n",
    "    \"baltiyskaya\",\n",
    "    \"narvskaya\",\n",
    "    \"kirovsky-zavod\", #\n",
    "    \"avtovo\",\n",
    "    \"leninsky-prospekt\", #\n",
    "    \"prospekt-veteranov\"\n",
    "]\n",
    "\n",
    "stations_blue_line = [\n",
    "    \"parnas\",\n",
    "    \"prospekt-prosveshcheniya\",\n",
    "    \"ozerki\",\n",
    "    \"udelnaya\",\n",
    "    \"pionerskaya\",\n",
    "    \"chyornaya-rechka\", #\n",
    "    \"petrogradskaya\",\n",
    "    \"gorkovskaya\",\n",
    "    \"nevskiy-prospekt\",\n",
    "    \"sennaya-ploshchad\",\n",
    "    \"tekhnologicheskiy-institut\",\n",
    "    \"frunzenskaya\",\n",
    "    \"moskovskie-vorota\",\n",
    "    \"elektrosila\",\n",
    "    \"park-pobedy\",\n",
    "    \"moskovskaya\",\n",
    "    \"zvyozdnaya\", #\n",
    "    \"kupchino\"\n",
    "]\n",
    "\n",
    "stations_green_line = [\n",
    "    \"begovaya\",\n",
    "    \"zenit\",\n",
    "    \"primorskaya\",\n",
    "    \"vasileostrovskaya\",\n",
    "    \"gostiny-dvor\",\n",
    "    \"mayakovskaya\",\n",
    "    \"ploshchad-aleksandra-nevskogo-1\", #\n",
    "    \"elizarovskaya\",\n",
    "    \"lomonosovskaya\",\n",
    "    \"proletarskaya\",\n",
    "    \"obukhovo\",\n",
    "    \"rybatskoe\"\n",
    "]"
   ]
  },
  {
   "cell_type": "code",
   "execution_count": 23,
   "metadata": {},
   "outputs": [
    {
     "name": "stderr",
     "output_type": "stream",
     "text": [
      "Обработка годов:   0%|          | 0/11 [00:00<?, ?it/s]"
     ]
    },
    {
     "name": "stderr",
     "output_type": "stream",
     "text": [
      "Обработка годов: 100%|██████████| 11/11 [00:01<00:00,  5.74it/s]\n"
     ]
    },
    {
     "name": "stdout",
     "output_type": "stream",
     "text": [
      "metr: begovaya\tsize=0\n"
     ]
    },
    {
     "name": "stderr",
     "output_type": "stream",
     "text": [
      "Обработка годов: 100%|██████████| 11/11 [00:02<00:00,  4.56it/s]\n"
     ]
    },
    {
     "name": "stdout",
     "output_type": "stream",
     "text": [
      "metr: zenit\tsize=0\n"
     ]
    },
    {
     "name": "stderr",
     "output_type": "stream",
     "text": [
      "Обработка годов: 100%|██████████| 11/11 [00:02<00:00,  3.70it/s]\n"
     ]
    },
    {
     "name": "stdout",
     "output_type": "stream",
     "text": [
      "metr: primorskaya\tsize=0\n"
     ]
    },
    {
     "name": "stderr",
     "output_type": "stream",
     "text": [
      "Обработка годов: 100%|██████████| 11/11 [00:02<00:00,  4.33it/s]\n"
     ]
    },
    {
     "name": "stdout",
     "output_type": "stream",
     "text": [
      "metr: vasileostrovskaya\tsize=5\n"
     ]
    },
    {
     "name": "stderr",
     "output_type": "stream",
     "text": [
      "Обработка годов: 100%|██████████| 11/11 [00:03<00:00,  3.08it/s]\n"
     ]
    },
    {
     "name": "stdout",
     "output_type": "stream",
     "text": [
      "metr: gostiny-dvor\tsize=35\n"
     ]
    },
    {
     "name": "stderr",
     "output_type": "stream",
     "text": [
      "Обработка годов: 100%|██████████| 11/11 [00:03<00:00,  2.93it/s]\n"
     ]
    },
    {
     "name": "stdout",
     "output_type": "stream",
     "text": [
      "metr: mayakovskaya\tsize=19\n"
     ]
    },
    {
     "name": "stderr",
     "output_type": "stream",
     "text": [
      "Обработка годов:  45%|████▌     | 5/11 [00:00<00:00,  8.60it/s]"
     ]
    },
    {
     "name": "stdout",
     "output_type": "stream",
     "text": [
      "Ошибка в get_page_data: 'map'\n",
      "Ошибка в get_page_data: 'map'\n",
      "Ошибка в get_page_data: 'map'\n",
      "Ошибка в get_page_data: 'map'\n",
      "Ошибка в get_page_data: 'map'\n"
     ]
    },
    {
     "name": "stderr",
     "output_type": "stream",
     "text": [
      "Обработка годов:  64%|██████▎   | 7/11 [00:00<00:00,  9.25it/s]"
     ]
    },
    {
     "name": "stdout",
     "output_type": "stream",
     "text": [
      "Ошибка в get_page_data: 'map'\n",
      "Ошибка в get_page_data: 'map'\n",
      "Ошибка в get_page_data: 'map'\n"
     ]
    },
    {
     "name": "stderr",
     "output_type": "stream",
     "text": [
      "Обработка годов:  82%|████████▏ | 9/11 [00:01<00:00,  9.69it/s]"
     ]
    },
    {
     "name": "stdout",
     "output_type": "stream",
     "text": [
      "Ошибка в get_page_data: 'map'\n",
      "Ошибка в get_page_data: 'map'\n"
     ]
    },
    {
     "name": "stderr",
     "output_type": "stream",
     "text": [
      "Обработка годов: 100%|██████████| 11/11 [00:01<00:00,  7.86it/s]\n"
     ]
    },
    {
     "name": "stdout",
     "output_type": "stream",
     "text": [
      "Ошибка в get_page_data: 'map'\n",
      "metr: ploshchad-aleksandra-nevskogo-1\tsize=0\n"
     ]
    },
    {
     "name": "stderr",
     "output_type": "stream",
     "text": [
      "Обработка годов: 100%|██████████| 11/11 [00:01<00:00,  6.24it/s]\n"
     ]
    },
    {
     "name": "stdout",
     "output_type": "stream",
     "text": [
      "metr: elizarovskaya\tsize=0\n"
     ]
    },
    {
     "name": "stderr",
     "output_type": "stream",
     "text": [
      "Обработка годов: 100%|██████████| 11/11 [00:01<00:00,  6.62it/s]\n"
     ]
    },
    {
     "name": "stdout",
     "output_type": "stream",
     "text": [
      "metr: lomonosovskaya\tsize=0\n"
     ]
    },
    {
     "name": "stderr",
     "output_type": "stream",
     "text": [
      "Обработка годов: 100%|██████████| 11/11 [00:02<00:00,  4.77it/s]\n"
     ]
    },
    {
     "name": "stdout",
     "output_type": "stream",
     "text": [
      "metr: proletarskaya\tsize=0\n"
     ]
    },
    {
     "name": "stderr",
     "output_type": "stream",
     "text": [
      "Обработка годов: 100%|██████████| 11/11 [00:01<00:00,  7.93it/s]\n"
     ]
    },
    {
     "name": "stdout",
     "output_type": "stream",
     "text": [
      "metr: obukhovo\tsize=0\n"
     ]
    },
    {
     "name": "stderr",
     "output_type": "stream",
     "text": [
      "Обработка годов: 100%|██████████| 11/11 [00:01<00:00,  8.65it/s]"
     ]
    },
    {
     "name": "stdout",
     "output_type": "stream",
     "text": [
      "metr: rybatskoe\tsize=0\n"
     ]
    },
    {
     "name": "stderr",
     "output_type": "stream",
     "text": [
      "\n"
     ]
    }
   ],
   "source": [
    "for metro in stations_green_line:\n",
    "    param = {\n",
    "        'metro': metro,\n",
    "        'built_year_min': 1800,\n",
    "        'built_year_max': 1810\n",
    "    }\n",
    "    res = find_apartments(param)\n",
    "    print(f\"metr: {metro}\\tsize={res.shape[0]}\")"
   ]
  },
  {
   "cell_type": "code",
   "execution_count": 5,
   "metadata": {},
   "outputs": [],
   "source": [
    "def get_image(url):\n",
    "    if (\"https:\" not in url):\n",
    "        url = \"https:\" + url\n",
    "\n",
    "    try:\n",
    "        response = requests.get(url)\n",
    "        response.raise_for_status()\n",
    "\n",
    "        image = Image.open(BytesIO(response.content))\n",
    "        return image\n",
    "    except requests.exceptions.RequestException as err:\n",
    "        print(f\"Ошибка при загрузке изображения: {err}\")\n",
    "        return None\n",
    "\n",
    "# Чтобы быстрее парсилось, можно сделать многопотоку\n",
    "def get_images_optimizer(urls: List[str], num_thread: int=5) -> List[JpegImageFile]:\n",
    "    images = []\n",
    "    with concurrent.futures.ThreadPoolExecutor(max_workers=num_thread) as executor:\n",
    "        future_to_url = {executor.submit(get_image, url): url for url in urls}\n",
    "        for future in concurrent.futures.as_completed(future_to_url):\n",
    "            url = future_to_url[future]\n",
    "            try:\n",
    "                image = future.result()\n",
    "                if image:\n",
    "                    images.append(image)\n",
    "            except Exception as e:\n",
    "                print(f\"Ошибка при обработке {url}: {e}\")\n",
    "    return images"
   ]
  },
  {
   "cell_type": "markdown",
   "metadata": {},
   "source": [
    "Посмотрим на работу с многопоточкой и без"
   ]
  },
  {
   "cell_type": "code",
   "execution_count": 6,
   "metadata": {},
   "outputs": [
    {
     "ename": "NameError",
     "evalue": "name 'tmp' is not defined",
     "output_type": "error",
     "traceback": [
      "\u001b[0;31m---------------------------------------------------------------------------\u001b[0m",
      "\u001b[0;31mNameError\u001b[0m                                 Traceback (most recent call last)",
      "Cell \u001b[0;32mIn[6], line 1\u001b[0m\n\u001b[0;32m----> 1\u001b[0m \u001b[38;5;28;01mfor\u001b[39;00m image_url_list \u001b[38;5;129;01min\u001b[39;00m tqdm(\u001b[43mtmp\u001b[49m[\u001b[38;5;124m'\u001b[39m\u001b[38;5;124mimages\u001b[39m\u001b[38;5;124m'\u001b[39m][:\u001b[38;5;241m10\u001b[39m]):\n\u001b[1;32m      2\u001b[0m     \u001b[38;5;28;01mif\u001b[39;00m (image_url_list \u001b[38;5;241m==\u001b[39m \u001b[38;5;28;01mNone\u001b[39;00m):\n\u001b[1;32m      3\u001b[0m         \u001b[38;5;28;01mcontinue\u001b[39;00m\n",
      "\u001b[0;31mNameError\u001b[0m: name 'tmp' is not defined"
     ]
    }
   ],
   "source": [
    "for image_url_list in tqdm(tmp['images'][:10]):\n",
    "    if (image_url_list == None):\n",
    "        continue\n",
    "    for image_url in image_url_list:\n",
    "        get_image(image_url)"
   ]
  },
  {
   "cell_type": "code",
   "execution_count": null,
   "metadata": {},
   "outputs": [
    {
     "name": "stderr",
     "output_type": "stream",
     "text": [
      "100%|██████████| 10/10 [00:08<00:00,  1.16it/s]\n"
     ]
    }
   ],
   "source": [
    "for image_url_list in tqdm(tmp['images'][:10]):\n",
    "    if (image_url_list == None):\n",
    "        continue\n",
    "    images = get_images_optimizer(image_url_list)"
   ]
  },
  {
   "cell_type": "markdown",
   "metadata": {},
   "source": [
    "Как и ожидалось ускорение в (кол-во потоков) раз"
   ]
  }
 ],
 "metadata": {
  "kernelspec": {
   "display_name": "Python 3",
   "language": "python",
   "name": "python3"
  },
  "language_info": {
   "codemirror_mode": {
    "name": "ipython",
    "version": 3
   },
   "file_extension": ".py",
   "mimetype": "text/x-python",
   "name": "python",
   "nbconvert_exporter": "python",
   "pygments_lexer": "ipython3",
   "version": "3.10.12"
  }
 },
 "nbformat": 4,
 "nbformat_minor": 2
}
