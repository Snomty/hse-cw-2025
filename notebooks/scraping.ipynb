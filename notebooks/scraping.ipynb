{
 "cells": [
  {
   "cell_type": "code",
   "execution_count": 1,
   "metadata": {},
   "outputs": [
    {
     "name": "stderr",
     "output_type": "stream",
     "text": [
      "/usr/lib/python3/dist-packages/pytz/__init__.py:31: SyntaxWarning: invalid escape sequence '\\s'\n",
      "  match = re.match(\"^#\\s*version\\s*([0-9a-z]*)\\s*$\", line)\n"
     ]
    }
   ],
   "source": [
    "import pandas as pd\n",
    "import requests\n",
    "import json\n",
    "from selectolax.parser import HTMLParser"
   ]
  },
  {
   "cell_type": "markdown",
   "metadata": {},
   "source": [
    "Загружаю посты с сайта Яндекс Недвижимость. Почему код выглядит странно и костыльно:\n",
    "\n",
    "1. Когда вы ищете квартиру к покупке, пусть на сайте хоть 50 тыс. объявлений, вы сможете долистать только до 25 страницы - далее их не существует.\n",
    "\n",
    "    На одной странице ~20 объявлений. 500 != 50 тыс. Звучит как очень малый датасет в 500 квартир для СПБ (- _-)\n",
    "\n",
    "\n",
    "2. Решение - играться с тегами. Сегментирование дает результат: у нас всё тот же лимит в 25 страниц, но для каждого тега отдельно.\n",
    "\n",
    "\n",
    "3. Для этого есть массив url ссылок - разбиение по тегам вторичный рынок\\новостройка, количество комнат.\n",
    "\n",
    "\n",
    "4. В функции load_posts происходит подгрузка словарей-объявлений в общий массив, с которым будем работать позднее. \n",
    "\n",
    "    В ней так же особым образом реализован шаг - опять же отсылаясь к лимиту в 25 страниц\n",
    "\n",
    "\n",
    "5. Шаг помогает контролировать третий критерий - ценовой диапазон. \n",
    "\n",
    "    Причём шаг различный для разных сумм: однокомнатных квартир очень много в диапазоне 5 млн - 9 млн, а вне диапазона их плотность на отрезке цены уменьшается\n",
    "\n",
    "\n",
    "6. Обработка и загрузка постов сделана для разных url в отдельных блоках, порциями - оперативная память даёт о себе знать и крашит моё ssh соединение (wsl тоже страдает).\n",
    "\n",
    "    Также сохранение происходит сразу же в отдельные csv файлы, впоследствии будут объединены\n",
    "\n",
    "7. Почему нет заимстованного датасета - найденные устарели. Оценивать сегодняшнюю недвижку по датасетам двухгодичной давности не звучит как хорошее занятие"
   ]
  },
  {
   "cell_type": "code",
   "execution_count": 16,
   "metadata": {},
   "outputs": [],
   "source": [
    "offers = []\n",
    "urls_partitial_offers = ['https://realty.yandex.ru/sankt-peterburg/kupit/kvartira/studiya/vtorichniy-rynok/', \n",
    "                         'https://realty.yandex.ru/sankt-peterburg/kupit/kvartira/studiya/novostroyki/',\n",
    "                         'https://realty.yandex.ru/sankt-peterburg/kupit/kvartira/odnokomnatnaya/vtorichniy-rynok/',\n",
    "                         'https://realty.yandex.ru/sankt-peterburg/kupit/kvartira/odnokomnatnaya/novostroyki/',\n",
    "                         'https://realty.yandex.ru/sankt-peterburg/kupit/kvartira/dvuhkomnatnaya/novostroyki/',\n",
    "                         'https://realty.yandex.ru/sankt-peterburg/kupit/kvartira/dvuhkomnatnaya/vtorichniy-rynok/',\n",
    "                         'https://realty.yandex.ru/sankt-peterburg/kupit/kvartira/tryohkomnatnaya/vtorichniy-rynok/',\n",
    "                         'https://realty.yandex.ru/sankt-peterburg/kupit/kvartira/tryohkomnatnaya/novostroyki/',\n",
    "                         'https://realty.yandex.ru/sankt-peterburg/kupit/kvartira/4-i-bolee/vtorichniy-rynok/',\n",
    "                         'https://realty.yandex.ru/sankt-peterburg/kupit/kvartira/4-i-bolee/novostroyki/']\n",
    "\n",
    "def load_posts(url):\n",
    "    minPrice = 500_000\n",
    "    maxPrice = 500_000\n",
    "    step = 500_000\n",
    "    for i in range(0, 100):\n",
    "        minPrice += step\n",
    "        maxPrice = minPrice + step - 1\n",
    "        if i == 6:\n",
    "            step = 250_000\n",
    "        if i == 50:\n",
    "            step = 1_000_000\n",
    "        if i == 70:\n",
    "            maxPrice = 1_000_000_000\n",
    "        if i == 71:\n",
    "            break\n",
    "        page = 1\n",
    "        if (i % 10 == 0):\n",
    "            print(str(i) + ' step')\n",
    "        while True:\n",
    "            params = (('page', page), ('priceMin', minPrice), ('priceMax', maxPrice))\n",
    "            response = requests.get(url, params=params)\n",
    "            response.encoding = 'utf-8'\n",
    "\n",
    "            html = response.text\n",
    "            tree = HTMLParser(html)\n",
    "\n",
    "            if not (tree.css_first('script[id=\"initial_state_script\"]')):\n",
    "                break\n",
    "\n",
    "            script = tree.css_first('script[id=\"initial_state_script\"]').text()\n",
    "            script = script[23:-1]\n",
    "\n",
    "            data = json.loads(script)\n",
    "            offers.extend(data['map']['offers']['points'])\n",
    "            page += 1\n",
    "\n",
    "    print(url, 'done')"
   ]
  },
  {
   "cell_type": "code",
   "execution_count": 17,
   "metadata": {},
   "outputs": [
    {
     "name": "stdout",
     "output_type": "stream",
     "text": [
      "0 step\n",
      "10 step\n",
      "20 step\n",
      "30 step\n",
      "40 step\n",
      "50 step\n",
      "60 step\n",
      "70 step\n",
      "https://realty.yandex.ru/sankt-peterburg/kupit/kvartira/studiya/vtorichniy-rynok/ done\n"
     ]
    }
   ],
   "source": [
    "load_posts(urls_partitial_offers[0])"
   ]
  },
  {
   "cell_type": "code",
   "execution_count": 18,
   "metadata": {},
   "outputs": [],
   "source": [
    "apartments_data = []"
   ]
  },
  {
   "cell_type": "code",
   "execution_count": 19,
   "metadata": {},
   "outputs": [],
   "source": [
    "def get_data_from_offers(offers):\n",
    "    apartments_data.clear()\n",
    "    for offer in offers:\n",
    "        if not offer.get('floorsOffered'):\n",
    "            continue\n",
    "        apartment = {\n",
    "            'id': offer.get('offerId'),\n",
    "            'price': offer['price'].get('value'),\n",
    "            'area': offer['area'].get('value'),\n",
    "            'rooms': offer.get('roomsTotalKey'),\n",
    "            'ceilingHeight': offer.get('ceilingHeight'),\n",
    "            'kitchen_space': offer['kitchenSpace'].get('value') if 'kitchenSpace' in offer else 'studio',\n",
    "            'floor': offer.get('floorsOffered')[0],\n",
    "            'floorsTotal': offer.get('floorsTotal'),\n",
    "            'creationDate': offer.get('creationDate'),\n",
    "            'seller': offer['author'].get('category'),\n",
    "            'address': offer['location'].get('geocoderAddress'),\n",
    "            'nearest_metro': offer['location']['metro']['name'] if 'metro' in offer['location'] else None,\n",
    "            'time_to_metro': offer['location']['metro'].get('minTimeToMetro') if 'metro' in offer['location'] else None,\n",
    "            'transport_to_metro': offer['location']['metro'].get('metroTransport') if 'metro' in offer['location'] else None,\n",
    "            'branch_metro_color': offer['location']['metro'].get('lineColors')[0] if 'metro' in offer['location'] else None,\n",
    "            'parks_count': len(offer['location'].get('parks')) if 'parks' in offer['location'] else 0,\n",
    "            'nearest_park': offer['location']['parks'][0].get('name') if 'parks' in offer['location'] else None,\n",
    "            'time_park': offer['location']['parks'][0].get('timeOnFoot') if 'parks' in offer['location'] else None,\n",
    "            'distance_park': offer['location']['parks'][0].get('distanceOnFoot') if 'parks' in offer['location'] else None,\n",
    "            'ponds_count': len(offer['location'].get('ponds')) if 'ponds' in offer['location'] else 0,\n",
    "            'nearest_pond': offer['location']['ponds'][0].get('name') if 'ponds' in offer['location'] else None,\n",
    "            'time_pond': offer['location']['ponds'][0].get('timeOnFoot') if 'ponds' in offer['location'] else None,\n",
    "            'distance_pond': offer['location']['ponds'][0].get('distanceOnFoot') if 'ponds' in offer['location'] else None,\n",
    "            'nearest_airport': offer['location']['airports'][0].get('name') if 'airports' in offer['location'] else None,\n",
    "            'time_airport_via_car': offer['location']['airports'][0].get('timeOnCar') if 'airports' in offer['location'] else None,\n",
    "            'distance_airport': offer['location']['airports'][0].get('distanceOnCar') if 'airports' in offer['location'] else None,\n",
    "            'images': offer.get('large1242Images')\n",
    "        }\n",
    "        apartments_data.append(apartment)"
   ]
  },
  {
   "cell_type": "code",
   "execution_count": 20,
   "metadata": {},
   "outputs": [],
   "source": [
    "get_data_from_offers(offers)"
   ]
  },
  {
   "cell_type": "code",
   "execution_count": 21,
   "metadata": {},
   "outputs": [
    {
     "data": {
      "text/plain": [
       "(15718, 27)"
      ]
     },
     "execution_count": 21,
     "metadata": {},
     "output_type": "execute_result"
    }
   ],
   "source": [
    "df = pd.DataFrame(apartments_data)\n",
    "df.shape"
   ]
  },
  {
   "cell_type": "code",
   "execution_count": 30,
   "metadata": {},
   "outputs": [
    {
     "data": {
      "text/html": [
       "<div>\n",
       "<style scoped>\n",
       "    .dataframe tbody tr th:only-of-type {\n",
       "        vertical-align: middle;\n",
       "    }\n",
       "\n",
       "    .dataframe tbody tr th {\n",
       "        vertical-align: top;\n",
       "    }\n",
       "\n",
       "    .dataframe thead th {\n",
       "        text-align: right;\n",
       "    }\n",
       "</style>\n",
       "<table border=\"1\" class=\"dataframe\">\n",
       "  <thead>\n",
       "    <tr style=\"text-align: right;\">\n",
       "      <th></th>\n",
       "      <th>id</th>\n",
       "      <th>price</th>\n",
       "      <th>area</th>\n",
       "      <th>rooms</th>\n",
       "      <th>ceilingHeight</th>\n",
       "      <th>kitchen_space</th>\n",
       "      <th>floor</th>\n",
       "      <th>floorsTotal</th>\n",
       "      <th>creationDate</th>\n",
       "      <th>seller</th>\n",
       "      <th>...</th>\n",
       "      <th>time_park</th>\n",
       "      <th>distance_park</th>\n",
       "      <th>ponds_count</th>\n",
       "      <th>nearest_pond</th>\n",
       "      <th>time_pond</th>\n",
       "      <th>distance_pond</th>\n",
       "      <th>nearest_airport</th>\n",
       "      <th>time_airport_via_car</th>\n",
       "      <th>distance_airport</th>\n",
       "      <th>images</th>\n",
       "    </tr>\n",
       "  </thead>\n",
       "  <tbody>\n",
       "    <tr>\n",
       "      <th>15686</th>\n",
       "      <td>149435909235188927</td>\n",
       "      <td>43900000</td>\n",
       "      <td>140.10</td>\n",
       "      <td>studio</td>\n",
       "      <td>3.0</td>\n",
       "      <td>studio</td>\n",
       "      <td>3</td>\n",
       "      <td>4</td>\n",
       "      <td>2025-04-25T15:52:38Z</td>\n",
       "      <td>AGENCY</td>\n",
       "      <td>...</td>\n",
       "      <td>548.0</td>\n",
       "      <td>743.0</td>\n",
       "      <td>3</td>\n",
       "      <td>Среднее Суздальское озеро</td>\n",
       "      <td>0.0</td>\n",
       "      <td>57.0</td>\n",
       "      <td>Пулково</td>\n",
       "      <td>3484.0</td>\n",
       "      <td>44433.0</td>\n",
       "      <td>[//avatars.mds.yandex.net/get-realty-offers/11...</td>\n",
       "    </tr>\n",
       "    <tr>\n",
       "      <th>214</th>\n",
       "      <td>5279600861237375865</td>\n",
       "      <td>3450000</td>\n",
       "      <td>10.90</td>\n",
       "      <td>studio</td>\n",
       "      <td>2.6</td>\n",
       "      <td>studio</td>\n",
       "      <td>1</td>\n",
       "      <td>6</td>\n",
       "      <td>2025-02-01T11:30:53Z</td>\n",
       "      <td>AGENCY</td>\n",
       "      <td>...</td>\n",
       "      <td>465.0</td>\n",
       "      <td>642.0</td>\n",
       "      <td>0</td>\n",
       "      <td>None</td>\n",
       "      <td>NaN</td>\n",
       "      <td>NaN</td>\n",
       "      <td>Пулково</td>\n",
       "      <td>2307.0</td>\n",
       "      <td>24179.0</td>\n",
       "      <td>[//avatars.mds.yandex.net/get-realty-offers/13...</td>\n",
       "    </tr>\n",
       "    <tr>\n",
       "      <th>2387</th>\n",
       "      <td>8898868126694160800</td>\n",
       "      <td>5150000</td>\n",
       "      <td>26.50</td>\n",
       "      <td>studio</td>\n",
       "      <td>2.7</td>\n",
       "      <td>studio</td>\n",
       "      <td>22</td>\n",
       "      <td>24</td>\n",
       "      <td>2025-04-11T12:32:55Z</td>\n",
       "      <td>AGENCY</td>\n",
       "      <td>...</td>\n",
       "      <td>NaN</td>\n",
       "      <td>NaN</td>\n",
       "      <td>1</td>\n",
       "      <td>река Утка</td>\n",
       "      <td>120.0</td>\n",
       "      <td>214.0</td>\n",
       "      <td>Пулково</td>\n",
       "      <td>1723.0</td>\n",
       "      <td>21567.0</td>\n",
       "      <td>[//avatars.mds.yandex.net/get-realty-offers/13...</td>\n",
       "    </tr>\n",
       "    <tr>\n",
       "      <th>15253</th>\n",
       "      <td>5073293347945329665</td>\n",
       "      <td>16700000</td>\n",
       "      <td>46.00</td>\n",
       "      <td>studio</td>\n",
       "      <td>NaN</td>\n",
       "      <td>studio</td>\n",
       "      <td>10</td>\n",
       "      <td>20</td>\n",
       "      <td>2024-07-09T07:23:16Z</td>\n",
       "      <td>OWNER</td>\n",
       "      <td>...</td>\n",
       "      <td>313.0</td>\n",
       "      <td>538.0</td>\n",
       "      <td>0</td>\n",
       "      <td>None</td>\n",
       "      <td>NaN</td>\n",
       "      <td>NaN</td>\n",
       "      <td>Пулково</td>\n",
       "      <td>2119.0</td>\n",
       "      <td>20783.0</td>\n",
       "      <td>[//avatars.mds.yandex.net/get-verba/787013/2a0...</td>\n",
       "    </tr>\n",
       "    <tr>\n",
       "      <th>5123</th>\n",
       "      <td>5871497920636674816</td>\n",
       "      <td>5800000</td>\n",
       "      <td>24.75</td>\n",
       "      <td>studio</td>\n",
       "      <td>2.7</td>\n",
       "      <td>studio</td>\n",
       "      <td>12</td>\n",
       "      <td>13</td>\n",
       "      <td>2024-04-03T12:12:24Z</td>\n",
       "      <td>AGENCY</td>\n",
       "      <td>...</td>\n",
       "      <td>244.0</td>\n",
       "      <td>342.0</td>\n",
       "      <td>1</td>\n",
       "      <td>Ивановский карьер</td>\n",
       "      <td>120.0</td>\n",
       "      <td>175.0</td>\n",
       "      <td>Пулково</td>\n",
       "      <td>2024.0</td>\n",
       "      <td>20279.0</td>\n",
       "      <td>[//avatars.mds.yandex.net/get-realty-offers/11...</td>\n",
       "    </tr>\n",
       "  </tbody>\n",
       "</table>\n",
       "<p>5 rows × 27 columns</p>\n",
       "</div>"
      ],
      "text/plain": [
       "                        id     price    area   rooms  ceilingHeight  \\\n",
       "15686   149435909235188927  43900000  140.10  studio            3.0   \n",
       "214    5279600861237375865   3450000   10.90  studio            2.6   \n",
       "2387   8898868126694160800   5150000   26.50  studio            2.7   \n",
       "15253  5073293347945329665  16700000   46.00  studio            NaN   \n",
       "5123   5871497920636674816   5800000   24.75  studio            2.7   \n",
       "\n",
       "      kitchen_space  floor  floorsTotal          creationDate  seller  ...  \\\n",
       "15686        studio      3            4  2025-04-25T15:52:38Z  AGENCY  ...   \n",
       "214          studio      1            6  2025-02-01T11:30:53Z  AGENCY  ...   \n",
       "2387         studio     22           24  2025-04-11T12:32:55Z  AGENCY  ...   \n",
       "15253        studio     10           20  2024-07-09T07:23:16Z   OWNER  ...   \n",
       "5123         studio     12           13  2024-04-03T12:12:24Z  AGENCY  ...   \n",
       "\n",
       "      time_park distance_park  ponds_count               nearest_pond  \\\n",
       "15686     548.0         743.0            3  Среднее Суздальское озеро   \n",
       "214       465.0         642.0            0                       None   \n",
       "2387        NaN           NaN            1                  река Утка   \n",
       "15253     313.0         538.0            0                       None   \n",
       "5123      244.0         342.0            1          Ивановский карьер   \n",
       "\n",
       "      time_pond  distance_pond nearest_airport  time_airport_via_car  \\\n",
       "15686       0.0           57.0         Пулково                3484.0   \n",
       "214         NaN            NaN         Пулково                2307.0   \n",
       "2387      120.0          214.0         Пулково                1723.0   \n",
       "15253       NaN            NaN         Пулково                2119.0   \n",
       "5123      120.0          175.0         Пулково                2024.0   \n",
       "\n",
       "       distance_airport                                             images  \n",
       "15686           44433.0  [//avatars.mds.yandex.net/get-realty-offers/11...  \n",
       "214             24179.0  [//avatars.mds.yandex.net/get-realty-offers/13...  \n",
       "2387            21567.0  [//avatars.mds.yandex.net/get-realty-offers/13...  \n",
       "15253           20783.0  [//avatars.mds.yandex.net/get-verba/787013/2a0...  \n",
       "5123            20279.0  [//avatars.mds.yandex.net/get-realty-offers/11...  \n",
       "\n",
       "[5 rows x 27 columns]"
      ]
     },
     "execution_count": 30,
     "metadata": {},
     "output_type": "execute_result"
    }
   ],
   "source": [
    "df.sample(5)\n",
    "# df.head()"
   ]
  },
  {
   "cell_type": "markdown",
   "metadata": {},
   "source": [
    "<b>Яндекс Недвижимость очень любит даже с фильтрами на цены давать предложения вне ценового фильтра с надписями \"На 100 тысяч дешевле\". Дупликатов куча. \n",
    "\n",
    "Удаляем сразу же</b>"
   ]
  },
  {
   "cell_type": "code",
   "execution_count": 25,
   "metadata": {},
   "outputs": [
    {
     "data": {
      "text/plain": [
       "np.int64(12503)"
      ]
     },
     "execution_count": 25,
     "metadata": {},
     "output_type": "execute_result"
    }
   ],
   "source": [
    "df.duplicated(subset=['id']).sum()"
   ]
  },
  {
   "cell_type": "code",
   "execution_count": 26,
   "metadata": {},
   "outputs": [],
   "source": [
    "df.drop_duplicates(subset=['id'], inplace=True)"
   ]
  },
  {
   "cell_type": "code",
   "execution_count": 27,
   "metadata": {},
   "outputs": [
    {
     "data": {
      "text/plain": [
       "(np.int64(0), 3215)"
      ]
     },
     "execution_count": 27,
     "metadata": {},
     "output_type": "execute_result"
    }
   ],
   "source": [
    "df.duplicated(subset=['id']).sum(), df.shape[0]"
   ]
  },
  {
   "attachments": {
    "image.png": {
     "image/png": "[encoded data removed]"
    }
   },
   "cell_type": "markdown",
   "metadata": {},
   "source": [
    "![image.png](attachment:image.png)"
   ]
  },
  {
   "cell_type": "markdown",
   "metadata": {},
   "source": [
    "Почти сходиться со значением, указанным на сайте для студий на вторичке - можно брать"
   ]
  },
  {
   "cell_type": "code",
   "execution_count": 28,
   "metadata": {},
   "outputs": [],
   "source": [
    "df.to_csv('0.csv', index=False)"
   ]
  },
  {
   "cell_type": "code",
   "execution_count": 29,
   "metadata": {},
   "outputs": [
    {
     "name": "stdout",
     "output_type": "stream",
     "text": [
      "0\n"
     ]
    }
   ],
   "source": [
    "offers.clear()\n",
    "print(len(offers))"
   ]
  },
  {
   "cell_type": "markdown",
   "metadata": {},
   "source": [
    "Всё то же проделываем с остальными ссылками"
   ]
  },
  {
   "cell_type": "code",
   "execution_count": 31,
   "metadata": {},
   "outputs": [
    {
     "name": "stdout",
     "output_type": "stream",
     "text": [
      "0 step\n",
      "10 step\n",
      "20 step\n",
      "30 step\n",
      "40 step\n",
      "50 step\n",
      "60 step\n",
      "70 step\n",
      "https://realty.yandex.ru/sankt-peterburg/kupit/kvartira/studiya/novostroyki/ done\n"
     ]
    }
   ],
   "source": [
    "load_posts(urls_partitial_offers[1])"
   ]
  },
  {
   "cell_type": "code",
   "execution_count": 32,
   "metadata": {},
   "outputs": [
    {
     "name": "stdout",
     "output_type": "stream",
     "text": [
      "(22116, 27)\n",
      "14910\n",
      "0 7206\n"
     ]
    }
   ],
   "source": [
    "get_data_from_offers(offers)\n",
    "df = pd.DataFrame(apartments_data)\n",
    "print(df.shape)\n",
    "print(df.duplicated(subset=['id']).sum())\n",
    "df.drop_duplicates(subset=['id'],inplace=True)\n",
    "print(df.duplicated(subset=['id']).sum(), df.shape[0])\n",
    "df.to_csv('1.csv', index=False)"
   ]
  },
  {
   "cell_type": "code",
   "execution_count": 33,
   "metadata": {},
   "outputs": [],
   "source": [
    "offers.clear()"
   ]
  },
  {
   "cell_type": "code",
   "execution_count": 34,
   "metadata": {},
   "outputs": [
    {
     "name": "stdout",
     "output_type": "stream",
     "text": [
      "0 step\n",
      "10 step\n",
      "20 step\n",
      "30 step\n",
      "40 step\n",
      "50 step\n",
      "60 step\n",
      "70 step\n",
      "https://realty.yandex.ru/sankt-peterburg/kupit/kvartira/odnokomnatnaya/vtorichniy-rynok/ done\n"
     ]
    }
   ],
   "source": [
    "load_posts(urls_partitial_offers[2])"
   ]
  },
  {
   "cell_type": "code",
   "execution_count": 35,
   "metadata": {},
   "outputs": [
    {
     "name": "stdout",
     "output_type": "stream",
     "text": [
      "(27295, 27)\n",
      "21958\n",
      "0 5337\n"
     ]
    }
   ],
   "source": [
    "get_data_from_offers(offers)\n",
    "df = pd.DataFrame(apartments_data)\n",
    "print(df.shape)\n",
    "print(df.duplicated(subset=['id']).sum())\n",
    "df.drop_duplicates(subset=['id'],inplace=True)\n",
    "print(df.duplicated(subset=['id']).sum(), df.shape[0])\n",
    "df.to_csv('2.csv', index=False)"
   ]
  },
  {
   "cell_type": "code",
   "execution_count": 36,
   "metadata": {},
   "outputs": [],
   "source": [
    "offers.clear()"
   ]
  },
  {
   "cell_type": "code",
   "execution_count": 37,
   "metadata": {},
   "outputs": [
    {
     "name": "stdout",
     "output_type": "stream",
     "text": [
      "0 step\n",
      "10 step\n",
      "20 step\n",
      "30 step\n",
      "40 step\n",
      "50 step\n",
      "60 step\n",
      "70 step\n",
      "https://realty.yandex.ru/sankt-peterburg/kupit/kvartira/odnokomnatnaya/novostroyki/ done\n"
     ]
    }
   ],
   "source": [
    "load_posts(urls_partitial_offers[3])"
   ]
  },
  {
   "cell_type": "code",
   "execution_count": 38,
   "metadata": {},
   "outputs": [
    {
     "name": "stdout",
     "output_type": "stream",
     "text": [
      "(30319, 27)\n",
      "19058\n",
      "0 11261\n"
     ]
    }
   ],
   "source": [
    "get_data_from_offers(offers)\n",
    "df = pd.DataFrame(apartments_data)\n",
    "print(df.shape)\n",
    "print(df.duplicated(subset=['id']).sum())\n",
    "df.drop_duplicates(subset=['id'],inplace=True)\n",
    "print(df.duplicated(subset=['id']).sum(), df.shape[0])\n",
    "df.to_csv('3.csv', index=False)"
   ]
  },
  {
   "cell_type": "code",
   "execution_count": 39,
   "metadata": {},
   "outputs": [],
   "source": [
    "offers.clear()"
   ]
  },
  {
   "cell_type": "code",
   "execution_count": 40,
   "metadata": {},
   "outputs": [
    {
     "name": "stdout",
     "output_type": "stream",
     "text": [
      "0 step\n",
      "10 step\n",
      "20 step\n",
      "30 step\n",
      "40 step\n",
      "50 step\n",
      "60 step\n",
      "70 step\n",
      "https://realty.yandex.ru/sankt-peterburg/kupit/kvartira/dvuhkomnatnaya/novostroyki/ done\n"
     ]
    }
   ],
   "source": [
    "load_posts(urls_partitial_offers[4])"
   ]
  },
  {
   "cell_type": "code",
   "execution_count": 41,
   "metadata": {},
   "outputs": [
    {
     "name": "stdout",
     "output_type": "stream",
     "text": [
      "(28560, 27)\n",
      "20436\n",
      "0 8124\n"
     ]
    }
   ],
   "source": [
    "get_data_from_offers(offers)\n",
    "df = pd.DataFrame(apartments_data)\n",
    "print(df.shape)\n",
    "print(df.duplicated(subset=['id']).sum())\n",
    "df.drop_duplicates(subset=['id'],inplace=True)\n",
    "print(df.duplicated(subset=['id']).sum(), df.shape[0])\n",
    "df.to_csv('4.csv', index=False)"
   ]
  },
  {
   "cell_type": "code",
   "execution_count": 42,
   "metadata": {},
   "outputs": [],
   "source": [
    "offers.clear()"
   ]
  },
  {
   "cell_type": "code",
   "execution_count": 43,
   "metadata": {},
   "outputs": [
    {
     "name": "stdout",
     "output_type": "stream",
     "text": [
      "0 step\n",
      "10 step\n",
      "20 step\n",
      "30 step\n",
      "40 step\n",
      "50 step\n",
      "60 step\n",
      "70 step\n",
      "https://realty.yandex.ru/sankt-peterburg/kupit/kvartira/dvuhkomnatnaya/vtorichniy-rynok/ done\n"
     ]
    }
   ],
   "source": [
    "load_posts(urls_partitial_offers[5])"
   ]
  },
  {
   "cell_type": "code",
   "execution_count": 44,
   "metadata": {},
   "outputs": [
    {
     "name": "stdout",
     "output_type": "stream",
     "text": [
      "(31265, 27)\n",
      "25616\n",
      "0 5649\n"
     ]
    }
   ],
   "source": [
    "get_data_from_offers(offers)\n",
    "df = pd.DataFrame(apartments_data)\n",
    "print(df.shape)\n",
    "print(df.duplicated(subset=['id']).sum())\n",
    "df.drop_duplicates(subset=['id'],inplace=True)\n",
    "print(df.duplicated(subset=['id']).sum(), df.shape[0])\n",
    "df.to_csv('5.csv', index=False)"
   ]
  },
  {
   "cell_type": "code",
   "execution_count": 45,
   "metadata": {},
   "outputs": [],
   "source": [
    "offers.clear()"
   ]
  },
  {
   "cell_type": "code",
   "execution_count": 46,
   "metadata": {},
   "outputs": [
    {
     "name": "stdout",
     "output_type": "stream",
     "text": [
      "0 step\n",
      "10 step\n",
      "20 step\n",
      "30 step\n",
      "40 step\n",
      "50 step\n",
      "60 step\n",
      "70 step\n",
      "https://realty.yandex.ru/sankt-peterburg/kupit/kvartira/tryohkomnatnaya/vtorichniy-rynok/ done\n"
     ]
    }
   ],
   "source": [
    "load_posts(urls_partitial_offers[6])"
   ]
  },
  {
   "cell_type": "code",
   "execution_count": 47,
   "metadata": {},
   "outputs": [
    {
     "name": "stdout",
     "output_type": "stream",
     "text": [
      "(28901, 27)\n",
      "24733\n",
      "0 4168\n"
     ]
    }
   ],
   "source": [
    "get_data_from_offers(offers)\n",
    "df = pd.DataFrame(apartments_data)\n",
    "print(df.shape)\n",
    "print(df.duplicated(subset=['id']).sum())\n",
    "df.drop_duplicates(subset=['id'],inplace=True)\n",
    "print(df.duplicated(subset=['id']).sum(), df.shape[0])\n",
    "df.to_csv('6.csv', index=False)"
   ]
  },
  {
   "cell_type": "code",
   "execution_count": 48,
   "metadata": {},
   "outputs": [],
   "source": [
    "offers.clear()"
   ]
  },
  {
   "cell_type": "code",
   "execution_count": 49,
   "metadata": {},
   "outputs": [
    {
     "name": "stdout",
     "output_type": "stream",
     "text": [
      "0 step\n",
      "10 step\n",
      "20 step\n",
      "30 step\n",
      "40 step\n",
      "50 step\n",
      "60 step\n",
      "70 step\n",
      "https://realty.yandex.ru/sankt-peterburg/kupit/kvartira/tryohkomnatnaya/novostroyki/ done\n"
     ]
    }
   ],
   "source": [
    "load_posts(urls_partitial_offers[7])"
   ]
  },
  {
   "cell_type": "code",
   "execution_count": 50,
   "metadata": {},
   "outputs": [
    {
     "name": "stdout",
     "output_type": "stream",
     "text": [
      "(20067, 27)\n",
      "16753\n",
      "0 3314\n"
     ]
    }
   ],
   "source": [
    "get_data_from_offers(offers)\n",
    "df = pd.DataFrame(apartments_data)\n",
    "print(df.shape)\n",
    "print(df.duplicated(subset=['id']).sum())\n",
    "df.drop_duplicates(subset=['id'],inplace=True)\n",
    "print(df.duplicated(subset=['id']).sum(), df.shape[0])\n",
    "df.to_csv('7.csv', index=False)"
   ]
  },
  {
   "cell_type": "code",
   "execution_count": 51,
   "metadata": {},
   "outputs": [],
   "source": [
    "offers.clear()"
   ]
  },
  {
   "cell_type": "code",
   "execution_count": 52,
   "metadata": {},
   "outputs": [
    {
     "name": "stdout",
     "output_type": "stream",
     "text": [
      "0 step\n",
      "10 step\n",
      "20 step\n",
      "30 step\n",
      "40 step\n",
      "50 step\n",
      "60 step\n",
      "70 step\n",
      "https://realty.yandex.ru/sankt-peterburg/kupit/kvartira/4-i-bolee/vtorichniy-rynok/ done\n"
     ]
    }
   ],
   "source": [
    "load_posts(urls_partitial_offers[8])"
   ]
  },
  {
   "cell_type": "code",
   "execution_count": 53,
   "metadata": {},
   "outputs": [
    {
     "name": "stdout",
     "output_type": "stream",
     "text": [
      "(7676, 27)\n",
      "6299\n",
      "0 1377\n"
     ]
    }
   ],
   "source": [
    "get_data_from_offers(offers)\n",
    "df = pd.DataFrame(apartments_data)\n",
    "print(df.shape)\n",
    "print(df.duplicated(subset=['id']).sum())\n",
    "df.drop_duplicates(subset=['id'],inplace=True)\n",
    "print(df.duplicated(subset=['id']).sum(), df.shape[0])\n",
    "df.to_csv('8.csv', index=False)"
   ]
  },
  {
   "cell_type": "code",
   "execution_count": 54,
   "metadata": {},
   "outputs": [],
   "source": [
    "offers.clear()"
   ]
  },
  {
   "cell_type": "code",
   "execution_count": 55,
   "metadata": {},
   "outputs": [
    {
     "name": "stdout",
     "output_type": "stream",
     "text": [
      "0 step\n",
      "10 step\n",
      "20 step\n",
      "30 step\n",
      "40 step\n",
      "50 step\n",
      "60 step\n",
      "70 step\n",
      "https://realty.yandex.ru/sankt-peterburg/kupit/kvartira/4-i-bolee/novostroyki/ done\n"
     ]
    }
   ],
   "source": [
    "load_posts(urls_partitial_offers[9])"
   ]
  },
  {
   "cell_type": "code",
   "execution_count": 56,
   "metadata": {},
   "outputs": [
    {
     "name": "stdout",
     "output_type": "stream",
     "text": [
      "(1466, 27)\n",
      "1128\n",
      "0 338\n"
     ]
    }
   ],
   "source": [
    "get_data_from_offers(offers)\n",
    "df = pd.DataFrame(apartments_data)\n",
    "print(df.shape)\n",
    "print(df.duplicated(subset=['id']).sum())\n",
    "df.drop_duplicates(subset=['id'],inplace=True)\n",
    "print(df.duplicated(subset=['id']).sum(), df.shape[0])\n",
    "df.to_csv('9.csv', index=False)"
   ]
  },
  {
   "cell_type": "code",
   "execution_count": 57,
   "metadata": {},
   "outputs": [],
   "source": [
    "offers.clear()"
   ]
  },
  {
   "cell_type": "markdown",
   "metadata": {},
   "source": [
    "Соединим csv"
   ]
  },
  {
   "cell_type": "code",
   "execution_count": 58,
   "metadata": {},
   "outputs": [
    {
     "data": {
      "text/plain": [
       "['0.csv',\n",
       " '1.csv',\n",
       " '2.csv',\n",
       " '3.csv',\n",
       " '4.csv',\n",
       " '5.csv',\n",
       " '6.csv',\n",
       " '7.csv',\n",
       " '8.csv',\n",
       " '9.csv']"
      ]
     },
     "execution_count": 58,
     "metadata": {},
     "output_type": "execute_result"
    }
   ],
   "source": [
    "names_csv = [str(i)+'.csv' for i in range(0, 10)]\n",
    "names_csv"
   ]
  },
  {
   "cell_type": "code",
   "execution_count": 59,
   "metadata": {},
   "outputs": [
    {
     "data": {
      "text/plain": [
       "(49989, 27)"
      ]
     },
     "execution_count": 59,
     "metadata": {},
     "output_type": "execute_result"
    }
   ],
   "source": [
    "df = pd.concat([pd.read_csv(f) for f in names_csv], ignore_index=True)\n",
    "df.shape"
   ]
  },
  {
   "cell_type": "code",
   "execution_count": 60,
   "metadata": {},
   "outputs": [],
   "source": [
    "df.to_csv(\"data.csv\", index=False)"
   ]
  }
 ],
 "metadata": {
  "kernelspec": {
   "display_name": "Python 3",
   "language": "python",
   "name": "python3"
  },
  "language_info": {
   "codemirror_mode": {
    "name": "ipython",
    "version": 3
   },
   "file_extension": ".py",
   "mimetype": "text/x-python",
   "name": "python",
   "nbconvert_exporter": "python",
   "pygments_lexer": "ipython3",
   "version": "3.13.3"
  }
 },
 "nbformat": 4,
 "nbformat_minor": 2
}
